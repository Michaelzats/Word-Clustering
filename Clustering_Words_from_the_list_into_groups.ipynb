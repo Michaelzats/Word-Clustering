{
  "nbformat": 4,
  "nbformat_minor": 0,
  "metadata": {
    "colab": {
      "name": "Clustering Words from the list into groups.ipynb",
      "provenance": [],
      "authorship_tag": "ABX9TyMgGgd9nbcJw+wvBEF+Gh3K",
      "include_colab_link": true
    },
    "kernelspec": {
      "name": "python3",
      "display_name": "Python 3"
    },
    "language_info": {
      "name": "python"
    }
  },
  "cells": [
    {
      "cell_type": "markdown",
      "metadata": {
        "id": "view-in-github",
        "colab_type": "text"
      },
      "source": [
        "<a href=\"https://colab.research.google.com/github/Michaelzats/Word-Clustering/blob/main/Clustering_Words_from_the_list_into_groups.ipynb\" target=\"_parent\"><img src=\"https://colab.research.google.com/assets/colab-badge.svg\" alt=\"Open In Colab\"/></a>"
      ]
    },
    {
      "cell_type": "code",
      "source": [
        "# !pip install Distance"
      ],
      "metadata": {
        "colab": {
          "base_uri": "https://localhost:8080/"
        },
        "id": "DdIUkdFpp9HW",
        "outputId": "dd35df60-2412-496f-e9a7-ae52f4e5d70f"
      },
      "execution_count": 3,
      "outputs": [
        {
          "output_type": "stream",
          "name": "stdout",
          "text": [
            "Looking in indexes: https://pypi.org/simple, https://us-python.pkg.dev/colab-wheels/public/simple/\n",
            "Collecting Distance\n",
            "  Downloading Distance-0.1.3.tar.gz (180 kB)\n",
            "\u001b[K     |████████████████████████████████| 180 kB 5.0 MB/s \n",
            "\u001b[?25hBuilding wheels for collected packages: Distance\n",
            "  Building wheel for Distance (setup.py) ... \u001b[?25l\u001b[?25hdone\n",
            "  Created wheel for Distance: filename=Distance-0.1.3-py3-none-any.whl size=16276 sha256=0f9f43805d58d53874e486b1bc5698a83e78908174285c70e7a2d8351bf1c954\n",
            "  Stored in directory: /root/.cache/pip/wheels/b2/10/1b/96fca621a1be378e2fe104cfb0d160bb6cdf3d04a3d35266cc\n",
            "Successfully built Distance\n",
            "Installing collected packages: Distance\n",
            "Successfully installed Distance-0.1.3\n"
          ]
        }
      ]
    },
    {
      "cell_type": "code",
      "execution_count": 14,
      "metadata": {
        "colab": {
          "base_uri": "https://localhost:8080/"
        },
        "id": "eLfdOiLspaVM",
        "outputId": "d82cf944-e7ae-477c-8af1-b3ed1d809962"
      },
      "outputs": [
        {
          "output_type": "stream",
          "name": "stdout",
          "text": [
            " - *how:* how\n",
            " - *are:* are\n",
            " - *u:* u\n"
          ]
        },
        {
          "output_type": "stream",
          "name": "stderr",
          "text": [
            "/usr/local/lib/python3.7/dist-packages/sklearn/cluster/_affinity_propagation.py:145: UserWarning: All samples have mutually equal similarities. Returning arbitrary cluster center(s).\n",
            "  \"All samples have mutually equal similarities. \"\n"
          ]
        }
      ],
      "source": [
        "import numpy as np\n",
        "from sklearn.cluster import AffinityPropagation\n",
        "import distance\n",
        "    \n",
        "words = \"how are u\".split(\" \") #Replace this line\n",
        "words = np.asarray(words) #So that indexing with a list will work\n",
        "lev_similarity = -1*np.array([[distance.levenshtein(w1,w2) for w1 in words] for w2 in words])\n",
        "\n",
        "affprop = AffinityPropagation(affinity=\"precomputed\", damping=0.5)\n",
        "affprop.fit(lev_similarity)\n",
        "for cluster_id in np.unique(affprop.labels_):\n",
        "    exemplar = words[affprop.cluster_centers_indices_[cluster_id]]\n",
        "    cluster = np.unique(words[np.nonzero(affprop.labels_==cluster_id)])\n",
        "    cluster_str = \", \".join(cluster)\n",
        "    print(\" - *%s:* %s\" % (exemplar, cluster_str))"
      ]
    }
  ]
}